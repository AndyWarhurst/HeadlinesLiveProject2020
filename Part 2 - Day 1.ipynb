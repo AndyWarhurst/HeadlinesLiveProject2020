{
 "cells": [
  {
   "cell_type": "markdown",
   "metadata": {},
   "source": [
    "# Adding Latitude and Longitude Coordinates"
   ]
  },
  {
   "cell_type": "markdown",
   "metadata": {},
   "source": [
    "Objective\n",
    "\n",
    "* Find the geographic location of each headline in latitude and longitude coordinates from the city/country names.\n"
   ]
  },
  {
   "cell_type": "markdown",
   "metadata": {},
   "source": [
    "Workflow\n",
    "\n",
    "1. Load in the pandas DataFrame with headline, countries, and cities.\n",
    "        If a headline contains multiple cities/countries, decide which single one to keep.\n",
    "2. For each city/country, match the name to the latitude and longitude in geonamescache.\n",
    "        You can use the function gc.get_cities_by_names_ _(“city_name”).\n",
    "        Some cities will return multiple matches with the previous function in different countries. You’ll have to decide which city to keep based on a heuristic (rule of thumb).\n",
    "        If you have trouble, work with a single problematic city until you figure it out, then write a function to apply on all headlines.\n",
    "3. Add longitude and latitude coordinates to your DataFrame for each headline.\n",
    "        It will be helpful to get the countrycode of each headline at this point.\n",
    "        If you were not able to find many countries, think about dropping the column. You also need to decide what to do with headlines that have no coordinates.\n",
    "        You should end up with over 600 headlines that have geographic coordinates.\n",
    "\n"
   ]
  },
  {
   "cell_type": "code",
   "execution_count": null,
   "metadata": {},
   "outputs": [],
   "source": []
  }
 ],
 "metadata": {
  "kernelspec": {
   "display_name": "Python 3",
   "language": "python",
   "name": "python3"
  },
  "language_info": {
   "codemirror_mode": {
    "name": "ipython",
    "version": 3
   },
   "file_extension": ".py",
   "mimetype": "text/x-python",
   "name": "python",
   "nbconvert_exporter": "python",
   "pygments_lexer": "ipython3",
   "version": "3.7.6"
  }
 },
 "nbformat": 4,
 "nbformat_minor": 4
}
