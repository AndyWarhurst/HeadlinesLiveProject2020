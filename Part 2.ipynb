{
 "cells": [
  {
   "cell_type": "markdown",
   "metadata": {},
   "source": [
    "# Part 2 - Adding Latitude and Longitude Coordinates"
   ]
  },
  {
   "cell_type": "markdown",
   "metadata": {},
   "source": [
    "## Objective\n",
    "\n",
    "    Find the geographic location of each headline in latitude and longitude coordinates from the city/country names.\n",
    "\n",
    "## Workflow\n",
    "\n",
    "    1. Load in the pandas DataFrame with headline, countries, and cities.\n",
    "        If a headline contains multiple cities/countries, decide which single one to keep.\n",
    "    2. For each city/country, match the name to the latitude and longitude in geonamescache.\n",
    "        You can use the function gc.get_cities_by_names_ _(“city_name”).\n",
    "        Some cities will return multiple matches with the previous function in different countries. You’ll have to decide which city to keep based on a heuristic (rule of thumb).\n",
    "        If you have trouble, work with a single problematic city until you figure it out, then write a function to apply on all headlines.\n",
    "    3. Add longitude and latitude coordinates to your DataFrame for each headline.\n",
    "        It will be helpful to get the countrycode of each headline at this point.\n",
    "        If you were not able to find many countries, think about dropping the column. You also need to decide what to do with headlines that have no coordinates.\n",
    "        You should end up with over 600 headlines that have geographic coordinates.\n"
   ]
  },
  {
   "cell_type": "markdown",
   "metadata": {},
   "source": [
    "### 1. Load in the pandas DataFrame with headline, countries, and cities."
   ]
  },
  {
   "cell_type": "code",
   "execution_count": 1,
   "metadata": {},
   "outputs": [
    {
     "name": "stdout",
     "output_type": "stream",
     "text": [
      "                                  headline countries         cities\n",
      "0                 Zika Outbreak Hits Miami       NaN          Miami\n",
      "1          Could Zika Reach New York City?       NaN  New York City\n",
      "2        First Case of Zika in Miami Beach       NaN    Miami Beach\n",
      "3  Mystery Virus Spreads in Recife, Brazil    Brazil         Recife\n",
      "4  Dallas man comes down with case of Zika       NaN         Dallas\n"
     ]
    }
   ],
   "source": [
    "import numpy as np\n",
    "import pandas as pd\n",
    "\n",
    "headline_cities_and_countries = pd.read_json(\"data/headline_cities_and_countries.json\")\n",
    "headline_cities_and_countries = headline_cities_and_countries.replace({None: np.nan})\n",
    "\n",
    "print(headline_cities_and_countries.head())"
   ]
  },
  {
   "cell_type": "code",
   "execution_count": 2,
   "metadata": {},
   "outputs": [
    {
     "name": "stdout",
     "output_type": "stream",
     "text": [
      "                                  headline countries         cities\n",
      "0                 Zika Outbreak Hits Miami       NaN          Miami\n",
      "1          Could Zika Reach New York City?       NaN  New York City\n",
      "2        First Case of Zika in Miami Beach       NaN    Miami Beach\n",
      "3  Mystery Virus Spreads in Recife, Brazil    Brazil         Recife\n",
      "4  Dallas man comes down with case of Zika       NaN         Dallas\n",
      "5        Trinidad confirms first Zika case       NaN       Trinidad\n",
      "6   Zika Concerns are Spreading in Houston       NaN        Houston\n",
      "7    Geneve Scientists Battle to Find Cure       NaN         Geneve\n",
      "8    The CDC in Atlanta is Growing Worried       NaN        Atlanta\n",
      "9       Zika Infested Monkeys in Sao Paulo       NaN      Sao Paulo\n"
     ]
    }
   ],
   "source": [
    "print(headline_cities_and_countries.head(10))"
   ]
  },
  {
   "cell_type": "markdown",
   "metadata": {},
   "source": [
    "####     If a headline contains multiple cities/countries, decide which single one to keep.\n",
    "\n",
    "Looking at the definition of the function used in the last exercise to extract the cities and countries from headlines it can be seen that only the first match from each will be used, and hence multiple cities are ignored here (though we might come back to this later)."
   ]
  },
  {
   "cell_type": "markdown",
   "metadata": {},
   "source": [
    "*Code from Part 1*\n",
    "\n",
    "```python\n",
    "def find_city_and_country_in_headline(headline):\n",
    "    \n",
    "    city_match = re.search(city_regex, headline)\n",
    "    country_match = re.search(country_regex, headline)\n",
    "    cities = None if not city_match else city_match.group(0)\n",
    "    countries = None if not country_match else country_match.group(0)\n",
    "    return dict(headline=headline, countries=countries, cities=cities)\n",
    "```"
   ]
  },
  {
   "cell_type": "markdown",
   "metadata": {},
   "source": [
    "### 2. For each city/country, match the name to the latitude and longitude in geonamescache."
   ]
  },
  {
   "cell_type": "code",
   "execution_count": 3,
   "metadata": {},
   "outputs": [],
   "source": [
    "from geonamescache import GeonamesCache\n",
    "gc = GeonamesCache()"
   ]
  },
  {
   "cell_type": "markdown",
   "metadata": {},
   "source": [
    "#### 2.1. Create a function to determine the lat, long of a headline according to the following rules\n",
    "    1. Use lat longs of the city\n",
    "    2. If the city is duplicated, chose the city with the highest population\n",
    "    3. If there is no city identified use the country\n",
    "    4. set lat, long to be nul values"
   ]
  },
  {
   "cell_type": "code",
   "execution_count": 4,
   "metadata": {},
   "outputs": [],
   "source": [
    "import json\n",
    "\n",
    "with open(\"data/city_accent_mapping.json\", \"r\") as fin:\n",
    "    city_accent_mapping = json.loads(fin.read())\n",
    "    \n",
    "with open(\"data/country_accent_mapping.json\", \"r\") as fin:\n",
    "    country_accent_mapping = json.loads(fin.read())"
   ]
  },
  {
   "cell_type": "code",
   "execution_count": 5,
   "metadata": {},
   "outputs": [],
   "source": [
    "def find_lat_long_for_headline(headline, country, city):\n",
    "\n",
    "    if city != '-':\n",
    "        best_city = max(gc.get_cities_by_name(city_accent_mapping[city]), key=lambda x: list(x.values())[0]['population'])\n",
    "        city_data = list(best_city.values())[0]\n",
    "        return_lat = city_data['latitude']\n",
    "        return_long = city_data['longitude']\n",
    "        return_countrycode = city_data['countrycode']\n",
    "    elif country != '-':\n",
    "        the_county = gc.get_countries_by_names()[country]\n",
    "        the_capital = the_country['capital']\n",
    "        best_city = max(gc.get_cities_by_name(city_accent_mapping[the_capital]), key=lambda x: list(x.values())[0]['population'])\n",
    "        city_data = list(best_city.values())[0]\n",
    "        return_lat = city_data['latitude']\n",
    "        return_long = city_data['longitude']\n",
    "        return_countrycode = city_data['countrycode']\n",
    "    else:        \n",
    "        return_lat = 0.0\n",
    "        return_long = 0.0       \n",
    "        return_countrycode = \"\"\n",
    "        \n",
    "    return (return_lat, return_long, return_countrycode)\n",
    "    "
   ]
  },
  {
   "cell_type": "code",
   "execution_count": 6,
   "metadata": {
    "scrolled": true
   },
   "outputs": [
    {
     "name": "stdout",
     "output_type": "stream",
     "text": [
      "                                             headline countries         cities\n",
      "0                            Zika Outbreak Hits Miami         -          Miami\n",
      "1                     Could Zika Reach New York City?         -  New York City\n",
      "2                   First Case of Zika in Miami Beach         -    Miami Beach\n",
      "3             Mystery Virus Spreads in Recife, Brazil    Brazil         Recife\n",
      "4             Dallas man comes down with case of Zika         -         Dallas\n",
      "5                   Trinidad confirms first Zika case         -       Trinidad\n",
      "6              Zika Concerns are Spreading in Houston         -        Houston\n",
      "7               Geneve Scientists Battle to Find Cure         -         Geneve\n",
      "8               The CDC in Atlanta is Growing Worried         -        Atlanta\n",
      "9                  Zika Infested Monkeys in Sao Paulo         -      Sao Paulo\n",
      "10              Brownsville teen contracts Zika virus         -    Brownsville\n",
      "11  Mosquito control efforts in St. Louis take new...         -      St. Louis\n",
      "12  San Juan reports 1st U.S. Zika-related death a...         -       San Juan\n",
      "13                   Flu outbreak in Galveston, Texas         -      Galveston\n",
      "14                 Zika alert - Manila now threatened         -         Manila\n",
      "15                     Zika afflicts 7 in Iloilo City         -         Iloilo\n",
      "16               New Los Angeles Hairstyle goes Viral         -    Los Angeles\n",
      "17                      Louisiana Zika cases up to 26         -              -\n",
      "18               Orlando volunteers aid Zika research         -        Orlando\n",
      "19                Zika infects pregnant woman in Cebu         -              -\n"
     ]
    }
   ],
   "source": [
    "headline_cities_and_countries=headline_cities_and_countries.fillna(\"-\")\n",
    "print( headline_cities_and_countries.head(20))"
   ]
  },
  {
   "cell_type": "markdown",
   "metadata": {},
   "source": [
    "### 3. Add longitude and latitude coordinates to your DataFrame for each headline."
   ]
  },
  {
   "cell_type": "code",
   "execution_count": 7,
   "metadata": {},
   "outputs": [
    {
     "name": "stdout",
     "output_type": "stream",
     "text": [
      "                                  headline countries         cities  latitude  \\\n",
      "0                 Zika Outbreak Hits Miami         -          Miami  25.77427   \n",
      "1          Could Zika Reach New York City?         -  New York City  40.71427   \n",
      "2        First Case of Zika in Miami Beach         -    Miami Beach  25.79065   \n",
      "3  Mystery Virus Spreads in Recife, Brazil    Brazil         Recife  -8.05389   \n",
      "4  Dallas man comes down with case of Zika         -         Dallas  32.78306   \n",
      "5        Trinidad confirms first Zika case         -       Trinidad -14.83333   \n",
      "6   Zika Concerns are Spreading in Houston         -        Houston  29.76328   \n",
      "7    Geneve Scientists Battle to Find Cure         -         Geneve  46.20222   \n",
      "8    The CDC in Atlanta is Growing Worried         -        Atlanta  33.74900   \n",
      "9       Zika Infested Monkeys in Sao Paulo         -      Sao Paulo -23.54750   \n",
      "\n",
      "   longitude countrycode  \n",
      "0  -80.19366          US  \n",
      "1  -74.00597          US  \n",
      "2  -80.13005          US  \n",
      "3  -34.88111          BR  \n",
      "4  -96.80667          US  \n",
      "5  -64.90000          BO  \n",
      "6  -95.36327          US  \n",
      "7    6.14569          CH  \n",
      "8  -84.38798          US  \n",
      "9  -46.63611          BR  \n"
     ]
    }
   ],
   "source": [
    "headline_cities_and_countries['latitude'] = 0.0\n",
    "headline_cities_and_countries['longitude'] = 0.0\n",
    "headline_cities_and_countries['countrycode'] = \"\"\n",
    "\n",
    "for i, row in headline_cities_and_countries.iterrows():\n",
    "    lat, long, ccode = find_lat_long_for_headline(row['headline'],row['countries'],row['cities'])\n",
    "    headline_cities_and_countries.at[i, 'latitude'] = lat\n",
    "    headline_cities_and_countries.at[i, 'longitude'] = long\n",
    "    headline_cities_and_countries.at[i, 'countrycode'] = ccode\n",
    "    \n",
    "print(headline_cities_and_countries.head(10)) "
   ]
  },
  {
   "cell_type": "markdown",
   "metadata": {},
   "source": [
    "#### Tidy up.\n",
    "* Remove rows where no lat/long can be established.\n",
    "* Drop the countries column\n",
    "* Rename the cities column to city"
   ]
  },
  {
   "cell_type": "code",
   "execution_count": 8,
   "metadata": {},
   "outputs": [
    {
     "name": "stdout",
     "output_type": "stream",
     "text": [
      "                                  headline           city  latitude  \\\n",
      "0                 Zika Outbreak Hits Miami          Miami  25.77427   \n",
      "1          Could Zika Reach New York City?  New York City  40.71427   \n",
      "2        First Case of Zika in Miami Beach    Miami Beach  25.79065   \n",
      "3  Mystery Virus Spreads in Recife, Brazil         Recife  -8.05389   \n",
      "4  Dallas man comes down with case of Zika         Dallas  32.78306   \n",
      "5        Trinidad confirms first Zika case       Trinidad -14.83333   \n",
      "6   Zika Concerns are Spreading in Houston        Houston  29.76328   \n",
      "7    Geneve Scientists Battle to Find Cure         Geneve  46.20222   \n",
      "8    The CDC in Atlanta is Growing Worried        Atlanta  33.74900   \n",
      "9       Zika Infested Monkeys in Sao Paulo      Sao Paulo -23.54750   \n",
      "\n",
      "   longitude countrycode  \n",
      "0  -80.19366          US  \n",
      "1  -74.00597          US  \n",
      "2  -80.13005          US  \n",
      "3  -34.88111          BR  \n",
      "4  -96.80667          US  \n",
      "5  -64.90000          BO  \n",
      "6  -95.36327          US  \n",
      "7    6.14569          CH  \n",
      "8  -84.38798          US  \n",
      "9  -46.63611          BR  \n"
     ]
    }
   ],
   "source": [
    "headline_cities_and_countries = headline_cities_and_countries[(headline_cities_and_countries.latitude != 0.0) & (headline_cities_and_countries.longitude != 0.0)]\n",
    "\n",
    "headline_cities_and_countries = headline_cities_and_countries.drop(columns=['countries'])\n",
    "headline_cities_and_countries = headline_cities_and_countries.rename(columns={\"cities\": \"city\"})\n",
    "print(headline_cities_and_countries.head(10))"
   ]
  },
  {
   "cell_type": "markdown",
   "metadata": {},
   "source": [
    "#### Save the DataFrame for later use."
   ]
  },
  {
   "cell_type": "code",
   "execution_count": 9,
   "metadata": {},
   "outputs": [],
   "source": [
    "save_file = \"data/headline_cities_and_countries2.csv\"\n",
    "headline_cities_and_countries.to_csv(save_file)\n"
   ]
  },
  {
   "cell_type": "code",
   "execution_count": null,
   "metadata": {},
   "outputs": [],
   "source": []
  }
 ],
 "metadata": {
  "kernelspec": {
   "display_name": "Python 3",
   "language": "python",
   "name": "python3"
  },
  "language_info": {
   "codemirror_mode": {
    "name": "ipython",
    "version": 3
   },
   "file_extension": ".py",
   "mimetype": "text/x-python",
   "name": "python",
   "nbconvert_exporter": "python",
   "pygments_lexer": "ipython3",
   "version": "3.7.6"
  }
 },
 "nbformat": 4,
 "nbformat_minor": 4
}
