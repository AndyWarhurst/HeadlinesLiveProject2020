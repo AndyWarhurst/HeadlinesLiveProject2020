{
 "cells": [
  {
   "cell_type": "code",
   "execution_count": 1,
   "metadata": {},
   "outputs": [
    {
     "name": "stdout",
     "output_type": "stream",
     "text": [
      "                                               Headline         City  \\\n",
      "0     Authorities are Worried about the Spread of No...        Dubai   \n",
      "1      West Nile Virus Symptoms Spread all over Yerevan      Yerevan   \n",
      "2                              Tuberculosis Hits Luanda       Luanda   \n",
      "3                       Outbreak of Zika in Santa Elena  Santa Elena   \n",
      "4                 Will Hepatitis B vaccine help La Paz?       La Paz   \n",
      "...                                                 ...          ...   \n",
      "1500                  Hepatitis C Outbreak in Bethlehem    Bethlehem   \n",
      "1501           West Nile Virus re-emerges in Wellington   Wellington   \n",
      "1502  Mpika authorities confirmed the spread of Chik...        Mpika   \n",
      "1503  More people in Kitwe are infected with Respira...        Kitwe   \n",
      "1504                  Harare is infested with Pneumonia       Harare   \n",
      "\n",
      "                   Country  \n",
      "0     United Arab Emirates  \n",
      "1                  Armenia  \n",
      "2                   Angola  \n",
      "3                Argentina  \n",
      "4                Argentina  \n",
      "...                    ...  \n",
      "1500          South Africa  \n",
      "1501          South Africa  \n",
      "1502                Zambia  \n",
      "1503                Zambia  \n",
      "1504              Zimbabwe  \n",
      "\n",
      "[1505 rows x 3 columns]\n"
     ]
    }
   ],
   "source": [
    "\n",
    "import re\n",
    "import geonamescache\n",
    "from unidecode import unidecode\n",
    "import pandas as pd\n",
    "\n",
    "df = pd.DataFrame(columns=['Headline','City','Country'])\n",
    "\n",
    "gc = geonamescache.GeonamesCache()\n",
    "\n",
    "for city in gc.get_cities().values():\n",
    "    if city['name'] != unidecode(city['name']):\n",
    "        city['name'] = unidecode(city['name'])\n",
    "        \n",
    "cities = gc.get_cities()\n",
    "countries = gc.get_countries()\n",
    "\n",
    "for city in gc.get_cities().values():\n",
    "    regexp = re.compile(city['name'])\n",
    "\n",
    "    file = open(\"data/headlines.txt\", 'r')\n",
    "\n",
    "    for line in file.readlines():\n",
    "        if regexp.search(line):\n",
    "            df = df.append({'Headline' : line.rstrip() , 'City' : city['name'], 'Country' : countries[city['countrycode']]['name']} , ignore_index=True)\n",
    "    file.close()\n",
    "    \n",
    "print(df)"
   ]
  },
  {
   "cell_type": "code",
   "execution_count": null,
   "metadata": {},
   "outputs": [],
   "source": []
  }
 ],
 "metadata": {
  "kernelspec": {
   "display_name": "Python 3",
   "language": "python",
   "name": "python3"
  },
  "language_info": {
   "codemirror_mode": {
    "name": "ipython",
    "version": 3
   },
   "file_extension": ".py",
   "mimetype": "text/x-python",
   "name": "python",
   "nbconvert_exporter": "python",
   "pygments_lexer": "ipython3",
   "version": "3.7.6"
  }
 },
 "nbformat": 4,
 "nbformat_minor": 4
}
