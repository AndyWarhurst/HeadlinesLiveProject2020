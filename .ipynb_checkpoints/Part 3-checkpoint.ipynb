{
 "cells": [
  {
   "cell_type": "markdown",
   "metadata": {},
   "source": [
    "# Part 3 - Applying Clustering Algorithms to Find Geographically Similar Headlines"
   ]
  },
  {
   "cell_type": "markdown",
   "metadata": {},
   "source": [
    "## Objective\n",
    "\n",
    "Cluster (find groups of) headlines based on the geographic coordinates using both k-means clustering and DBSCAN. Visualize the clusters on a world map to check the results. Try different parameters and distance measures in the algorithms to produce better clusters.\n"
   ]
  },
  {
   "cell_type": "markdown",
   "metadata": {},
   "source": [
    "## Workflow\n",
    "\n",
    "1. Apply k-means clustering and the DBSCAN algorithm to the latitude and longitude of each headline.\n",
    "    * Use the default initial parameters for the algorithm or, if you have prior experience, choose parameters you think will work well.\n",
    "    * Assign the cluster labels as another column on the DataFrame.\n",
    "2. Visualize the clusters on a world map using the Basemap library. Color the headlines by the cluster assignment.\n",
    "    * Determine if the clusters are reasonable: Are headlines geographically close to one another in the same cluster?\n",
    "    * Write a visualization function to quickly check clustering results.\n",
    "3. In the likely case that the first clustering is not ideal, adjust the parameters of the algorithm you choose or use a different algorithm.\n",
    "    * You can use an elbow plot to select the number of clusters in k-means.\n",
    "    * The two most important parameters for DBSCAN are eps and min_samples\n",
    "4. Try using DBSCAN with the great circle distance, which finds the distance between two geographic points on a spherical globe.\n",
    "    * Write a function to return the Great Circle distance between two coordinate points.\n",
    "    * Use this function as the metric for DBSCAN.\n",
    "5. Repeat the above steps—cluster, visualize, analyze, tune—as many times as is required until the algorithm correctly assigns close points to the same cluster without too many outliers.\n",
    "\n"
   ]
  },
  {
   "cell_type": "markdown",
   "metadata": {},
   "source": [
    "### 1. Apply k-means clustering and the DBSCAN algorithm to the latitude and longitude of each headline."
   ]
  },
  {
   "cell_type": "markdown",
   "metadata": {},
   "source": [
    "First read the headline data into a dataframe."
   ]
  },
  {
   "cell_type": "code",
   "execution_count": 2,
   "metadata": {},
   "outputs": [
    {
     "name": "stdout",
     "output_type": "stream",
     "text": [
      "   Unnamed: 0                                 headline           city  \\\n",
      "0           0                 Zika Outbreak Hits Miami          Miami   \n",
      "1           1          Could Zika Reach New York City?  New York City   \n",
      "2           2        First Case of Zika in Miami Beach    Miami Beach   \n",
      "3           3  Mystery Virus Spreads in Recife, Brazil         Recife   \n",
      "4           4  Dallas man comes down with case of Zika         Dallas   \n",
      "5           5        Trinidad confirms first Zika case       Trinidad   \n",
      "6           6   Zika Concerns are Spreading in Houston        Houston   \n",
      "7           7    Geneve Scientists Battle to Find Cure         Geneve   \n",
      "8           8    The CDC in Atlanta is Growing Worried        Atlanta   \n",
      "9           9       Zika Infested Monkeys in Sao Paulo      Sao Paulo   \n",
      "\n",
      "   latitude  longitude countrycode  \n",
      "0  25.77427  -80.19366          US  \n",
      "1  40.71427  -74.00597          US  \n",
      "2  25.79065  -80.13005          US  \n",
      "3  -8.05389  -34.88111          BR  \n",
      "4  32.78306  -96.80667          US  \n",
      "5 -14.83333  -64.90000          BO  \n",
      "6  29.76328  -95.36327          US  \n",
      "7  46.20222    6.14569          CH  \n",
      "8  33.74900  -84.38798          US  \n",
      "9 -23.54750  -46.63611          BR  \n"
     ]
    }
   ],
   "source": [
    "import pandas as pd\n",
    "headlines = pd.read_csv(\"data/headline_cities_and_countries2.csv\")\n",
    "print(headlines.head(10))"
   ]
  },
  {
   "cell_type": "markdown",
   "metadata": {},
   "source": [
    "For the first clustering lets try a random guess of 3 clusters."
   ]
  },
  {
   "cell_type": "code",
   "execution_count": 5,
   "metadata": {
    "scrolled": true
   },
   "outputs": [
    {
     "name": "stdout",
     "output_type": "stream",
     "text": [
      "[1 1 1 2 1 1 1 2 1 1 1 1 1 1 0 0 1 1 1 1 1 1 2 0 1 1 2 1 0 0 2 0 0 1 1 1 0\n",
      " 0 0 1 1 1 1 1 1 1 0 2 1 1 1 1 1 1 1 0 1 1 1 2 1 1 0 1 0 0 0 0 0 1 0 1 1 1\n",
      " 2 0 1 1 1 1 1 0 1 1 2 0 1 1 0 1 0 1 0 0 2 0 1 0 2 1 0 1 0 1 1 0 2 0 1 1 1\n",
      " 2 1 1 1 1 0 0 1 1 0 0 1 2 0 0 1 0 2 0 1 1 1 1 2 1 1 1 0 1 1 2 1 1 1 1 2 1\n",
      " 1 1 1 1 1 1 1 1 1 1 2 1 0 1 0 1 1 0 1 1 2 1 1 1 2 2 1 1 1 2 1 1 2 1 1 1 1\n",
      " 1 1 1 0 1 2 1 2 1 2 0 1 2 1 1 1 1 1 1 1 1 1 1 1 1 2 1 1 1 1 1 2 1 1 1 2 2\n",
      " 2 1 1 1 2 1 1 2 1 2 1 1 1 2 2 2 2 1 2 1 1 2 1 1 1 1 0 1 1 1 1 1 0 1 1 2 0\n",
      " 1 0 1 1 1 2 1 0 2 0 0 1 2 0 0 0 1 2 1 1 1 1 2 1 0 1 0 1 1 1 2 2 1 2 2 1 1\n",
      " 1 1 2 2 1 1 1 0 1 2 2 1 2 2 1 0 1 2 1 1 1 1 2 1 1 1 0 2 1 1 2 1 1 0 2 1 1\n",
      " 1 1 1 1 2 1 1 1 1 1 2 1 1 0 1 1 2 0 1 1 2 1 1 1 1 1 2 1 0 1 2 1 1 1 1 1 0\n",
      " 1 1 1 1 2 1 1 1 1 0 1 1 1 1 1 1 1 1 1 2 2 1 1 1 1 1 2 0 1 0 1 2 1 2 0 1 1\n",
      " 1 1 2 2 2 0 0 1 1 1 1 0 1 1 1 1 1 1 1 1 2 2 1 1 1 1 1 1 1 2 1 1 1 0 1 2 1\n",
      " 2 0 2 1 1 0 1 1 0 2 1 2 2 2 2 2 2 1 2 0 1 1 1 1 1 2 2 2 1 0 2 1 1 1 1 1 1\n",
      " 1 1 2 0 1 0 0 1 1 2 1 1 0 2 1 1 1 1 0 2 1 1 0 1 1 1 1 1 1 1 1 2 1 0 1 1 2\n",
      " 2 1 2 1 1 1 1 1 2 1 1 1 1 1 2 1 1 1 1 1 2 0 1 1 1 0 1 1 1 1 1 1 1 1 1 1 1\n",
      " 2 0 0 1 1 1 1 1 2 1 1 1 1 1 1 1 1 2 1 1 2 0 1 2 1 1 1 1 1 1 2 1 0 1 2 1 1\n",
      " 2 0 1 1 1 2 1 1 1 1 2 2 0 0 1 1]\n"
     ]
    }
   ],
   "source": [
    "locations = headlines[[\"latitude\",\"longitude\"]]\n",
    "\n",
    "from sklearn.cluster import KMeans\n",
    "cluster_model = KMeans(n_clusters=3)\n",
    "assigned_cluster = cluster_model.fit_predict(locations)\n",
    "print (assigned_cluster)"
   ]
  },
  {
   "cell_type": "markdown",
   "metadata": {},
   "source": [
    "Let's try to determine the number of lusters using the Elbow Method."
   ]
  },
  {
   "cell_type": "code",
   "execution_count": 6,
   "metadata": {},
   "outputs": [
    {
     "data": {
      "image/png": "[encoded data removed]",
      "text/plain": [
       "<Figure size 432x288 with 1 Axes>"
      ]
     },
     "metadata": {
      "needs_background": "light"
     },
     "output_type": "display_data"
    }
   ],
   "source": [
    "import matplotlib.pyplot as plt\n",
    "\n",
    "k_values = range(1, 10)\n",
    "inertia_values = [KMeans(k).fit(locations).inertia_\n",
    "                  for k in k_values]\n",
    "\n",
    "plt.plot(k_values, inertia_values)\n",
    "plt.xlabel('K')\n",
    "plt.ylabel('Inertia')\n",
    "plt.show()"
   ]
  },
  {
   "cell_type": "markdown",
   "metadata": {},
   "source": [
    "Looks like there are 2 or 3 clusters, but having browsed the headlines previously 3 seems more likely. So it ooks like the lucky guess was correct after all."
   ]
  },
  {
   "cell_type": "markdown",
   "metadata": {},
   "source": [
    "Lets have a go at plotting these clusters. It's not very useful for any analysis yet as there is no map, but it might help us decide if the clusters make any sense."
   ]
  },
  {
   "cell_type": "code",
   "execution_count": 17,
   "metadata": {},
   "outputs": [
    {
     "name": "stderr",
     "output_type": "stream",
     "text": [
      "/home/andy_w/anaconda3/lib/python3.7/site-packages/ipykernel_launcher.py:1: SettingWithCopyWarning: \n",
      "A value is trying to be set on a copy of a slice from a DataFrame.\n",
      "Try using .loc[row_indexer,col_indexer] = value instead\n",
      "\n",
      "See the caveats in the documentation: https://pandas.pydata.org/pandas-docs/stable/user_guide/indexing.html#returning-a-view-versus-a-copy\n",
      "  \"\"\"Entry point for launching an IPython kernel.\n"
     ]
    },
    {
     "data": {
      "text/plain": [
       "<matplotlib.axes._subplots.AxesSubplot at 0x7f8f1a238f50>"
      ]
     },
     "execution_count": 17,
     "metadata": {},
     "output_type": "execute_result"
    },
    {
     "data": {
      "image/png": "[encoded data removed]",
      "text/plain": [
       "<Figure size 432x288 with 2 Axes>"
      ]
     },
     "metadata": {
      "needs_background": "light"
     },
     "output_type": "display_data"
    }
   ],
   "source": [
    "locations['cluster']=assigned_cluster\n",
    "#print(locations.head(10))\n",
    "locations.plot.scatter(y='latitude', x='longitude',c='cluster',colormap='winter')\n"
   ]
  },
  {
   "cell_type": "markdown",
   "metadata": {},
   "source": [
    "Ignoring the error for now. It looks promising, but lets look at custers based on spacial density (i.e. DBSCAN) in case the clusters are not related to nearness, but instead relate to how densely packed they are."
   ]
  },
  {
   "cell_type": "code",
   "execution_count": null,
   "metadata": {},
   "outputs": [],
   "source": []
  },
  {
   "cell_type": "code",
   "execution_count": 19,
   "metadata": {
    "collapsed": true
   },
   "outputs": [
    {
     "ename": "NameError",
     "evalue": "name 'x_coordinates' is not defined",
     "output_type": "error",
     "traceback": [
      "\u001b[0;31m---------------------------------------------------------------------------\u001b[0m",
      "\u001b[0;31mNameError\u001b[0m                                 Traceback (most recent call last)",
      "\u001b[0;32m<ipython-input-19-d6524968fb4a>\u001b[0m in \u001b[0;36m<module>\u001b[0;34m\u001b[0m\n\u001b[1;32m      6\u001b[0m \u001b[0mdensity_clusters\u001b[0m \u001b[0;34m=\u001b[0m \u001b[0mcluster_model\u001b[0m\u001b[0;34m.\u001b[0m\u001b[0mfit_predict\u001b[0m\u001b[0;34m(\u001b[0m\u001b[0mlocations\u001b[0m\u001b[0;34m)\u001b[0m\u001b[0;34m\u001b[0m\u001b[0;34m\u001b[0m\u001b[0m\n\u001b[1;32m      7\u001b[0m \u001b[0mcolors\u001b[0m \u001b[0;34m=\u001b[0m \u001b[0;34m[\u001b[0m\u001b[0;34m[\u001b[0m\u001b[0;34m'g'\u001b[0m\u001b[0;34m,\u001b[0m \u001b[0;34m'y'\u001b[0m\u001b[0;34m,\u001b[0m \u001b[0;34m'k'\u001b[0m\u001b[0;34m]\u001b[0m\u001b[0;34m[\u001b[0m\u001b[0mcluster\u001b[0m\u001b[0;34m]\u001b[0m \u001b[0;32mfor\u001b[0m \u001b[0mcluster\u001b[0m \u001b[0;32min\u001b[0m \u001b[0mdensity_clusters\u001b[0m\u001b[0;34m]\u001b[0m\u001b[0;34m\u001b[0m\u001b[0;34m\u001b[0m\u001b[0m\n\u001b[0;32m----> 8\u001b[0;31m \u001b[0mplt\u001b[0m\u001b[0;34m.\u001b[0m\u001b[0mscatter\u001b[0m\u001b[0;34m(\u001b[0m\u001b[0mx_coordinates\u001b[0m\u001b[0;34m,\u001b[0m \u001b[0my_coordinates\u001b[0m\u001b[0;34m,\u001b[0m \u001b[0mcolor\u001b[0m\u001b[0;34m=\u001b[0m\u001b[0mcolors\u001b[0m\u001b[0;34m)\u001b[0m\u001b[0;34m\u001b[0m\u001b[0;34m\u001b[0m\u001b[0m\n\u001b[0m\u001b[1;32m      9\u001b[0m \u001b[0mplt\u001b[0m\u001b[0;34m.\u001b[0m\u001b[0mshow\u001b[0m\u001b[0;34m(\u001b[0m\u001b[0;34m)\u001b[0m\u001b[0;34m\u001b[0m\u001b[0;34m\u001b[0m\u001b[0m\n",
      "\u001b[0;31mNameError\u001b[0m: name 'x_coordinates' is not defined"
     ]
    }
   ],
   "source": [
    "epsilon=0.1\n",
    "min_points=10\n",
    "\n",
    "from sklearn.cluster import DBSCAN\n",
    "cluster_model = DBSCAN(eps=epsilon, min_samples=min_points)\n",
    "density_clusters = cluster_model.fit_predict(locations)\n",
    "colors = [['g', 'y', 'k'][cluster] for cluster in density_clusters]\n",
    "plt.scatter(x_coordinates, y_coordinates, color=colors)\n",
    "plt.show()"
   ]
  },
  {
   "cell_type": "code",
   "execution_count": null,
   "metadata": {},
   "outputs": [],
   "source": []
  }
 ],
 "metadata": {
  "kernelspec": {
   "display_name": "Python 3",
   "language": "python",
   "name": "python3"
  },
  "language_info": {
   "codemirror_mode": {
    "name": "ipython",
    "version": 3
   },
   "file_extension": ".py",
   "mimetype": "text/x-python",
   "name": "python",
   "nbconvert_exporter": "python",
   "pygments_lexer": "ipython3",
   "version": "3.7.6"
  }
 },
 "nbformat": 4,
 "nbformat_minor": 4
}
