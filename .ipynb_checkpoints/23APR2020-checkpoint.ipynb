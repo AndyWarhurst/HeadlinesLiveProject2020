{
 "cells": [
  {
   "cell_type": "markdown",
   "metadata": {},
   "source": [
    "# Day 2 (23 April 2020)"
   ]
  },
  {
   "cell_type": "markdown",
   "metadata": {},
   "source": [
    "Yesterday the initial program was written and reached the stage where a dataframe with columns for headlines, cities and countries was produced. However it contained some unwanted features such as\n",
    "\n",
    "* The same headline allocated to multiple places\n",
    "* Places such as Your matched with New York\n",
    "* Slow to process data\n",
    "\n",
    "Today's plan is to fix these issues ahead of submitting the program.\n",
    "\n",
    "Here's the code from yesterday."
   ]
  },
  {
   "cell_type": "code",
   "execution_count": 1,
   "metadata": {},
   "outputs": [
    {
     "ename": "ModuleNotFoundError",
     "evalue": "No module named 'geonamescache'",
     "output_type": "error",
     "traceback": [
      "\u001b[0;31m---------------------------------------------------------------------------\u001b[0m",
      "\u001b[0;31mModuleNotFoundError\u001b[0m                       Traceback (most recent call last)",
      "\u001b[0;32m<ipython-input-1-177f92c19d7b>\u001b[0m in \u001b[0;36m<module>\u001b[0;34m\u001b[0m\n\u001b[1;32m      1\u001b[0m \u001b[0;32mimport\u001b[0m \u001b[0mre\u001b[0m\u001b[0;34m\u001b[0m\u001b[0;34m\u001b[0m\u001b[0m\n\u001b[0;32m----> 2\u001b[0;31m \u001b[0;32mimport\u001b[0m \u001b[0mgeonamescache\u001b[0m\u001b[0;34m\u001b[0m\u001b[0;34m\u001b[0m\u001b[0m\n\u001b[0m\u001b[1;32m      3\u001b[0m \u001b[0;32mfrom\u001b[0m \u001b[0munidecode\u001b[0m \u001b[0;32mimport\u001b[0m \u001b[0munidecode\u001b[0m\u001b[0;34m\u001b[0m\u001b[0;34m\u001b[0m\u001b[0m\n\u001b[1;32m      4\u001b[0m \u001b[0;32mimport\u001b[0m \u001b[0mpandas\u001b[0m \u001b[0;32mas\u001b[0m \u001b[0mpd\u001b[0m\u001b[0;34m\u001b[0m\u001b[0;34m\u001b[0m\u001b[0m\n\u001b[1;32m      5\u001b[0m \u001b[0;34m\u001b[0m\u001b[0m\n",
      "\u001b[0;31mModuleNotFoundError\u001b[0m: No module named 'geonamescache'"
     ]
    }
   ],
   "source": [
    "import re\n",
    "import geonamescache\n",
    "from unidecode import unidecode\n",
    "import pandas as pd\n",
    "\n",
    "df = pd.DataFrame(columns=['Headline','City','Country'])\n",
    "\n",
    "gc = geonamescache.GeonamesCache()\n",
    "\n",
    "for city in gc.get_cities().values():\n",
    "    if city['name'] != unidecode(city['name']):\n",
    "        city['name'] = unidecode(city['name'])\n",
    "        \n",
    "cities = gc.get_cities()\n",
    "countries = gc.get_countries()\n",
    "\n",
    "for city in gc.get_cities().values():\n",
    "    regexp = re.compile(city['name'])\n",
    "\n",
    "    file = open(\"data/headlines.txt\", 'r')\n",
    "\n",
    "    for line in file.readlines():\n",
    "        if regexp.search(line):\n",
    "            df = df.append({'Headline' : line.rstrip() , 'City' : city['name'], 'Country' : countries[city['countrycode']]['name']} , ignore_index=True)\n",
    "    file.close()\n",
    "    \n",
    "print(df)"
   ]
  },
  {
   "cell_type": "code",
   "execution_count": null,
   "metadata": {},
   "outputs": [],
   "source": []
  }
 ],
 "metadata": {
  "kernelspec": {
   "display_name": "Python 3",
   "language": "python",
   "name": "python3"
  },
  "language_info": {
   "codemirror_mode": {
    "name": "ipython",
    "version": 3
   },
   "file_extension": ".py",
   "mimetype": "text/x-python",
   "name": "python",
   "nbconvert_exporter": "python",
   "pygments_lexer": "ipython3",
   "version": "3.7.6"
  }
 },
 "nbformat": 4,
 "nbformat_minor": 4
}
